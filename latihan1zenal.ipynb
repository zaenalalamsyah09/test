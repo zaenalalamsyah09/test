{
 "cells": [
  {
   "cell_type": "code",
   "execution_count": 3,
   "id": "bf988fa6",
   "metadata": {},
   "outputs": [
    {
     "name": "stdout",
     "output_type": "stream",
     "text": [
      "hello world\n",
      "hello world\n",
      "hello world\n"
     ]
    }
   ],
   "source": [
    "print('hello world')\n",
    "print('hello world')\n",
    "print('hello world')"
   ]
  },
  {
   "cell_type": "code",
   "execution_count": 6,
   "id": "6e1f1371",
   "metadata": {},
   "outputs": [
    {
     "name": "stdout",
     "output_type": "stream",
     "text": [
      "7\n"
     ]
    }
   ],
   "source": [
    "print(2+5)"
   ]
  },
  {
   "cell_type": "code",
   "execution_count": 1,
   "id": "a5293c6e",
   "metadata": {},
   "outputs": [
    {
     "name": "stdout",
     "output_type": "stream",
     "text": [
      "hasil dari panjang * lebar adalah 50\n"
     ]
    }
   ],
   "source": [
    "panjang = 5\n",
    "lebar = 10\n",
    "print('hasil dari panjang * lebar adalah', panjang*lebar)"
   ]
  },
  {
   "cell_type": "code",
   "execution_count": 3,
   "id": "f44e2f02",
   "metadata": {},
   "outputs": [
    {
     "name": "stdout",
     "output_type": "stream",
     "text": [
      "ini adalah hasil kolaborasi\n"
     ]
    }
   ],
   "source": [
    "print('ini adalah hasil kolaborasi')"
   ]
  },
  {
   "cell_type": "markdown",
   "id": "6e757ff1",
   "metadata": {},
   "source": [
    "# print('testing')"
   ]
  }
 ],
 "metadata": {
  "kernelspec": {
   "display_name": "Python 3 (ipykernel)",
   "language": "python",
   "name": "python3"
  },
  "language_info": {
   "codemirror_mode": {
    "name": "ipython",
    "version": 3
   },
   "file_extension": ".py",
   "mimetype": "text/x-python",
   "name": "python",
   "nbconvert_exporter": "python",
   "pygments_lexer": "ipython3",
   "version": "3.9.12"
  }
 },
 "nbformat": 4,
 "nbformat_minor": 5
}
